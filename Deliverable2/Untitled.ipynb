{
 "cells": [
  {
   "cell_type": "code",
   "execution_count": 1,
   "id": "825e9e38",
   "metadata": {},
   "outputs": [],
   "source": [
    "#import dependencies\n",
    "import pandas as pd\n",
    "import numpy as np\n",
    "import matplotlib as mpl\n",
    "import matplotlib.pyplot as plt\n",
    "import sklearn as sk\n"
   ]
  },
  {
   "cell_type": "markdown",
   "id": "17fc5f81",
   "metadata": {},
   "source": [
    "data-preprocessing on wine data has been completed by Kyle, Thanks Kyle!."
   ]
  },
  {
   "cell_type": "code",
   "execution_count": 2,
   "id": "d223ceba",
   "metadata": {},
   "outputs": [],
   "source": [
    "#read in wine data\n",
    "wine_df = pd."
   ]
  },
  {
   "cell_type": "code",
   "execution_count": 3,
   "id": "2d4bf5d6",
   "metadata": {},
   "outputs": [],
   "source": [
    "#read in weather data from AWS S-3"
   ]
  },
  {
   "cell_type": "code",
   "execution_count": 4,
   "id": "5565cb6b",
   "metadata": {},
   "outputs": [],
   "source": [
    "#categorize data"
   ]
  },
  {
   "cell_type": "code",
   "execution_count": 5,
   "id": "7276ee61",
   "metadata": {},
   "outputs": [],
   "source": [
    "#check for any \"dummy trap variables\""
   ]
  },
  {
   "cell_type": "code",
   "execution_count": 6,
   "id": "17f1140f",
   "metadata": {},
   "outputs": [],
   "source": [
    "#Split wine data into training and testing"
   ]
  },
  {
   "cell_type": "code",
   "execution_count": 7,
   "id": "3c654280",
   "metadata": {},
   "outputs": [],
   "source": [
    "#split weather data into training and testing"
   ]
  },
  {
   "cell_type": "code",
   "execution_count": null,
   "id": "c7656bdb",
   "metadata": {},
   "outputs": [],
   "source": []
  }
 ],
 "metadata": {
  "kernelspec": {
   "display_name": "mlenv",
   "language": "python",
   "name": "mlenv"
  },
  "language_info": {
   "codemirror_mode": {
    "name": "ipython",
    "version": 3
   },
   "file_extension": ".py",
   "mimetype": "text/x-python",
   "name": "python",
   "nbconvert_exporter": "python",
   "pygments_lexer": "ipython3",
   "version": "3.7.11"
  }
 },
 "nbformat": 4,
 "nbformat_minor": 5
}
