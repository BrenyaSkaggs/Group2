{
  "cells": [
    {
      "cell_type": "code",
      "execution_count": null,
      "metadata": {
        "colab": {
          "base_uri": "https://localhost:8080/"
        },
        "id": "4S9Llk88-z5i",
        "outputId": "608b5ae0-1a93-40fb-b623-14e07c4fcda4"
      },
      "outputs": [
        {
          "output_type": "stream",
          "name": "stdout",
          "text": [
            "Hit:1 http://archive.ubuntu.com/ubuntu bionic InRelease\n",
            "Hit:2 https://cloud.r-project.org/bin/linux/ubuntu bionic-cran40/ InRelease\n",
            "Get:3 http://archive.ubuntu.com/ubuntu bionic-updates InRelease [88.7 kB]\n",
            "Ign:4 https://developer.download.nvidia.com/compute/cuda/repos/ubuntu1804/x86_64  InRelease\n",
            "Hit:5 http://security.ubuntu.com/ubuntu bionic-security InRelease\n",
            "Hit:6 http://ppa.launchpad.net/c2d4u.team/c2d4u4.0+/ubuntu bionic InRelease\n",
            "Ign:7 https://developer.download.nvidia.com/compute/machine-learning/repos/ubuntu1804/x86_64  InRelease\n",
            "Hit:8 https://developer.download.nvidia.com/compute/cuda/repos/ubuntu1804/x86_64  Release\n",
            "Get:9 http://archive.ubuntu.com/ubuntu bionic-backports InRelease [74.6 kB]\n",
            "Hit:10 https://developer.download.nvidia.com/compute/machine-learning/repos/ubuntu1804/x86_64  Release\n",
            "Hit:11 http://ppa.launchpad.net/cran/libgit2/ubuntu bionic InRelease\n",
            "Hit:12 http://ppa.launchpad.net/deadsnakes/ppa/ubuntu bionic InRelease\n",
            "Hit:13 http://ppa.launchpad.net/graphics-drivers/ppa/ubuntu bionic InRelease\n",
            "Fetched 163 kB in 6s (26.0 kB/s)\n",
            "Reading package lists... Done\n"
          ]
        }
      ],
      "source": [
        "import os\n",
        "# Find the latest version of spark 3.0  from http://www-us.apache.org/dist/spark/ and enter as the spark version\n",
        "# For example:\n",
        "# spark_version = 'spark-3.0.2'\n",
        "spark_version = 'spark-3.1.2'\n",
        "os.environ['SPARK_VERSION']=spark_version\n",
        "# Install Spark and Java\n",
        "!apt-get update\n",
        "!apt-get install openjdk-11-jdk-headless -qq > /dev/null\n",
        "#!wget -q http://www-us.apache.org/dist/spark/$SPARK_VERSION/$SPARK_VERSION-bin-hadoop3.2.tgz\n",
        "!wget -q https://downloads.apache.org/spark/$SPARK_VERSION/$SPARK_VERSION-bin-hadoop3.2.tgz\n",
        "!tar xf $SPARK_VERSION-bin-hadoop3.2.tgz\n",
        "!pip install -q findspark\n",
        "# Set Environment Variables\n",
        "os.environ[\"JAVA_HOME\"] = \"/usr/lib/jvm/java-11-openjdk-amd64\"\n",
        "os.environ[\"SPARK_HOME\"] = f\"/content/{spark_version}-bin-hadoop3.2\"\n",
        "# Start a SparkSession\n",
        "import findspark\n",
        "findspark.init()"
      ]
    },
    {
      "cell_type": "code",
      "execution_count": null,
      "metadata": {
        "colab": {
          "base_uri": "https://localhost:8080/"
        },
        "id": "ZsNlz6pl_HpV",
        "outputId": "d3ad1dd9-2d9a-4739-a956-509a238b5e31"
      },
      "outputs": [
        {
          "output_type": "stream",
          "name": "stdout",
          "text": [
            "--2022-03-28 14:04:23--  https://jdbc.postgresql.org/download/postgresql-42.2.16.jar\n",
            "Resolving jdbc.postgresql.org (jdbc.postgresql.org)... 72.32.157.228, 2001:4800:3e1:1::228\n",
            "Connecting to jdbc.postgresql.org (jdbc.postgresql.org)|72.32.157.228|:443... connected.\n",
            "HTTP request sent, awaiting response... 200 OK\n",
            "Length: 1002883 (979K) [application/java-archive]\n",
            "Saving to: ‘postgresql-42.2.16.jar.2’\n",
            "\n",
            "postgresql-42.2.16. 100%[===================>] 979.38K  --.-KB/s    in 0.1s    \n",
            "\n",
            "2022-03-28 14:04:23 (6.52 MB/s) - ‘postgresql-42.2.16.jar.2’ saved [1002883/1002883]\n",
            "\n"
          ]
        }
      ],
      "source": [
        "# Download the Postgres driver that will allow Spark to interact with Postgres. \n",
        "!wget https://jdbc.postgresql.org/download/postgresql-42.2.16.jar"
      ]
    },
    {
      "cell_type": "code",
      "execution_count": null,
      "metadata": {
        "id": "hsQokc7f_Lok"
      },
      "outputs": [],
      "source": [
        "from pyspark.sql import SparkSession\n",
        "spark = SparkSession.builder.appName(\"Combined-Weather-Data\").config(\"spark.driver.extraClassPath\",\"/content/postgresql-42.2.16.jar\").getOrCreate()"
      ]
    },
    {
      "cell_type": "code",
      "execution_count": null,
      "metadata": {
        "colab": {
          "base_uri": "https://localhost:8080/"
        },
        "id": "qqyokxyI_Tmq",
        "outputId": "fbc035c9-0773-434f-e49c-4ee1ac4c5098"
      },
      "outputs": [
        {
          "output_type": "stream",
          "name": "stdout",
          "text": [
            "+------------+------------+-------------+-----------+----------+\n",
            "|Prov_Weather|Year_Weather|Precipitation|Temperature|Timeseries|\n",
            "+------------+------------+-------------+-----------+----------+\n",
            "|      Alsace|        1901|       864.18|       8.41|Historical|\n",
            "|      Alsace|        1902|       737.39|       8.57|Historical|\n",
            "|      Alsace|        1903|       757.38|        8.9|Historical|\n",
            "|      Alsace|        1904|       704.56|       9.39|Historical|\n",
            "|      Alsace|        1905|       840.87|       8.72|Historical|\n",
            "|      Alsace|        1906|       729.49|       8.87|Historical|\n",
            "|      Alsace|        1907|       670.79|       8.84|Historical|\n",
            "|      Alsace|        1908|       791.57|       8.53|Historical|\n",
            "|      Alsace|        1909|       824.61|        8.3|Historical|\n",
            "|      Alsace|        1910|      1021.54|       9.06|Historical|\n",
            "|      Alsace|        1911|       681.22|      10.04|Historical|\n",
            "|      Alsace|        1912|       827.35|       8.97|Historical|\n",
            "|      Alsace|        1913|       808.71|       9.45|Historical|\n",
            "|      Alsace|        1914|       991.68|       9.12|Historical|\n",
            "|      Alsace|        1915|       846.23|       9.02|Historical|\n",
            "|      Alsace|        1916|      1016.31|       9.42|Historical|\n",
            "|      Alsace|        1917|       868.94|       8.44|Historical|\n",
            "|      Alsace|        1918|       806.95|       9.48|Historical|\n",
            "|      Alsace|        1919|       809.87|       8.68|Historical|\n",
            "|      Alsace|        1920|        699.3|       9.91|Historical|\n",
            "+------------+------------+-------------+-----------+----------+\n",
            "only showing top 20 rows\n",
            "\n"
          ]
        }
      ],
      "source": [
        "# Load combined weather data into Spark DataFrame\n",
        "from pyspark import SparkFiles\n",
        "url = \"https://grp2weather.s3.amazonaws.com/combined_weather.csv\"\n",
        "spark.sparkContext.addFile(url)\n",
        "df = spark.read.option(\"encoding\", \"UTF-8\").csv(SparkFiles.get(\"\"), sep=\",\", header=True, inferSchema=True)\n",
        "df.show()"
      ]
    },
    {
      "cell_type": "code",
      "execution_count": null,
      "metadata": {
        "id": "nh-omn3iAez1"
      },
      "outputs": [],
      "source": [
        "# Configure settings for RDS - Group2Wineos password isn't an important password and was kept simple for this exercise.\n",
        "mode = \"append\"\n",
        "jdbc_url=\"jdbc:postgresql://grp2rdsinstance.cwkbfcctxu7y.us-east-1.rds.amazonaws.com:5432/postgres\"\n",
        "config = {\"user\":\"root\", \n",
        "          \"password\": \"Group2Wineos\", \n",
        "          \"driver\":\"org.postgresql.Driver\"}"
      ]
    },
    {
      "cell_type": "code",
      "execution_count": null,
      "metadata": {
        "id": "QA7swjZTBW5V"
      },
      "outputs": [],
      "source": [
        "# Write df to table in RDS\n",
        "df.write.jdbc(url=jdbc_url, table='weather_data', mode=mode, properties=config)"
      ]
    }
  ],
  "metadata": {
    "colab": {
      "collapsed_sections": [],
      "name": "Load_weather_data.ipynb",
      "provenance": []
    },
    "kernelspec": {
      "display_name": "Python 3",
      "name": "python3"
    },
    "language_info": {
      "name": "python"
    }
  },
  "nbformat": 4,
  "nbformat_minor": 0
}