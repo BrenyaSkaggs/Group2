{
 "cells": [
  {
   "cell_type": "code",
   "execution_count": 1,
   "id": "74b10d8f",
   "metadata": {},
   "outputs": [],
   "source": [
    "import pandas as pd"
   ]
  },
  {
   "cell_type": "code",
   "execution_count": null,
   "id": "aa5734d4",
   "metadata": {},
   "outputs": [],
   "source": [
    "precipitation = 900\n",
    "temperature = 15\n",
    "price = 60\n",
    "\n",
    "df = pd.toDataframe(columns)"
   ]
  }
 ],
 "metadata": {
  "kernelspec": {
   "display_name": "mlenv",
   "language": "python",
   "name": "mlenv"
  },
  "language_info": {
   "codemirror_mode": {
    "name": "ipython",
    "version": 3
   },
   "file_extension": ".py",
   "mimetype": "text/x-python",
   "name": "python",
   "nbconvert_exporter": "python",
   "pygments_lexer": "ipython3",
   "version": "3.7.11"
  }
 },
 "nbformat": 4,
 "nbformat_minor": 5
}
