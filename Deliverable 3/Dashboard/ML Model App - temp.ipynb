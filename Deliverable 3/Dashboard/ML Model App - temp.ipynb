{
 "cells": [
  {
   "cell_type": "code",
   "execution_count": 1,
   "id": "aad70229",
   "metadata": {},
   "outputs": [],
   "source": [
    "from unittest import result\n",
    "import numpy as np\n",
    "from flask import Flask, render_template, redirect, session, jsonify\n",
    "from joblib import load\n",
    "import pandas as pd\n",
    "from sklearn.linear_model import LinearRegression"
   ]
  },
  {
   "cell_type": "code",
   "execution_count": 34,
   "id": "2613499e",
   "metadata": {},
   "outputs": [
    {
     "data": {
      "text/html": [
       "<div>\n",
       "<style scoped>\n",
       "    .dataframe tbody tr th:only-of-type {\n",
       "        vertical-align: middle;\n",
       "    }\n",
       "\n",
       "    .dataframe tbody tr th {\n",
       "        vertical-align: top;\n",
       "    }\n",
       "\n",
       "    .dataframe thead th {\n",
       "        text-align: right;\n",
       "    }\n",
       "</style>\n",
       "<table border=\"1\" class=\"dataframe\">\n",
       "  <thead>\n",
       "    <tr style=\"text-align: right;\">\n",
       "      <th></th>\n",
       "      <th>precipitation</th>\n",
       "      <th>temperature</th>\n",
       "      <th>price</th>\n",
       "    </tr>\n",
       "  </thead>\n",
       "  <tbody>\n",
       "    <tr>\n",
       "      <th>0</th>\n",
       "      <td>440.1</td>\n",
       "      <td>8.68</td>\n",
       "      <td>14</td>\n",
       "    </tr>\n",
       "  </tbody>\n",
       "</table>\n",
       "</div>"
      ],
      "text/plain": [
       "   precipitation  temperature  price\n",
       "0          440.1         8.68     14"
      ]
     },
     "execution_count": 34,
     "metadata": {},
     "output_type": "execute_result"
    }
   ],
   "source": [
    "#sample data here:\n",
    "province='Oregon'\n",
    "variety='Pinot Gris'\n",
    "precipitation=440.1\n",
    "temperature=8.68\n",
    "price=14\n",
    "\n",
    "#scaled data\n",
    "# precipitation=0.162465\n",
    "# temperature=0.166058\n",
    "# price=0.104167\n",
    "\n",
    "# scale_columns=['precipitation', 'temperature', 'price']\n",
    "\n",
    "# ptp=[precipitation, temperature, price]\n",
    "\n",
    "#create dataframe with all zeros for captured values\n",
    "# scale_df=pd.DataFrame(columns=scale_columns)\n",
    "\n",
    "scale_df=pd.DataFrame()\n",
    "scale_df['precipitation']=[precipitation]\n",
    "scale_df['temperature']=[temperature]\n",
    "scale_df['price']=[price]\n",
    "\n",
    "scale_df"
   ]
  },
  {
   "cell_type": "code",
   "execution_count": 35,
   "id": "c82df36e",
   "metadata": {},
   "outputs": [
    {
     "name": "stderr",
     "output_type": "stream",
     "text": [
      "/Users/kyle/opt/anaconda3/envs/PythonData/lib/python3.7/site-packages/sklearn/base.py:334: UserWarning: Trying to unpickle estimator MinMaxScaler from version 1.0.2 when using version 0.23.2. This might lead to breaking code or invalid results. Use at your own risk.\n",
      "  UserWarning)\n"
     ]
    },
    {
     "data": {
      "text/plain": [
       "0.10416666666666666"
      ]
     },
     "execution_count": 35,
     "metadata": {},
     "output_type": "execute_result"
    }
   ],
   "source": [
    "scaler=load('Static/Scaler_MLv4.joblib')\n",
    "\n",
    "scaled_data=scaler.transform(scale_df)\n",
    "scaled_data[0][2]"
   ]
  },
  {
   "cell_type": "code",
   "execution_count": 41,
   "id": "fcbf6b91",
   "metadata": {},
   "outputs": [
    {
     "name": "stderr",
     "output_type": "stream",
     "text": [
      "/Users/kyle/opt/anaconda3/envs/PythonData/lib/python3.7/site-packages/sklearn/base.py:334: UserWarning: Trying to unpickle estimator LinearRegression from version 1.0.2 when using version 0.23.2. This might lead to breaking code or invalid results. Use at your own risk.\n",
      "  UserWarning)\n"
     ]
    },
    {
     "data": {
      "text/plain": [
       "'88'"
      ]
     },
     "execution_count": 41,
     "metadata": {},
     "output_type": "execute_result"
    }
   ],
   "source": [
    "#province List\n",
    "provinces=['Alsace','Aquitaine','Burgundy','California','Champagne-Ardenne','New York','Oregon','Piemonte','Sicilia','Tuscany','Veneto','Washington']\n",
    "\n",
    "#variety list\n",
    "varieties=['Barbera','Bordeaux-style Red Blend','Bordeaux-style White Blend','Cabernet Franc','Cabernet Sauvignon','Champagne Blend','Chardonnay','Corvina','Dolcetto','Garganega','Gewurztraminer','Glera','Grenache','Malbec','Meritage','Merlot','Moscato','Mourvedre','Nebbiolo','Nero dAvola','Petit Verdot','Petite Sirah','Pinot Blanc','Pinot Grigio','Pinot Gris','Pinot Noir','Red Blend','Rhone-style Red Blend','Rhone-style White Blend','Riesling','Rose','Sangiovese','Sangiovese Grosso','Sauvignon Blanc','Sparkling Blend','Syrah','Tempranillo','Vermentino','Viognier','White Blend','Zinfandel']\n",
    "\n",
    "df_columns=provinces+varieties+['precipitation','temperature','price']\n",
    "\n",
    "#create dataframe with all zeros for captured values\n",
    "df=pd.DataFrame()\n",
    "for c in df_columns:\n",
    "    df[c]=[0]\n",
    "\n",
    "#use province variable to set df[province]=1, same for variety, df[precip]=precip\n",
    "df[province]=1\n",
    "df[variety]=1\n",
    "df['precipitation']=scaled_data[0][0]\n",
    "df['temperature']=scaled_data[0][1]\n",
    "df['price']=scaled_data[0][2]\n",
    "\n",
    "#Load ML model\n",
    "model=load('Static/MLv4.joblib')\n",
    "    \n",
    "#pass df to model for prediction\n",
    "result = model.predict(df)\n",
    "\n",
    "#return prediction to html    \n",
    "# result2 = str(result)\n",
    "str(int(round(result[0],0)))"
   ]
  },
  {
   "cell_type": "code",
   "execution_count": null,
   "id": "544491be",
   "metadata": {},
   "outputs": [],
   "source": []
  }
 ],
 "metadata": {
  "kernelspec": {
   "display_name": "PythonData",
   "language": "python",
   "name": "pythondata"
  },
  "language_info": {
   "codemirror_mode": {
    "name": "ipython",
    "version": 3
   },
   "file_extension": ".py",
   "mimetype": "text/x-python",
   "name": "python",
   "nbconvert_exporter": "python",
   "pygments_lexer": "ipython3",
   "version": "3.7.6"
  }
 },
 "nbformat": 4,
 "nbformat_minor": 5
}
