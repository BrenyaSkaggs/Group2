{
 "cells": [
  {
   "cell_type": "code",
   "execution_count": 1,
   "id": "aa75fa12",
   "metadata": {},
   "outputs": [],
   "source": [
    "#import dependencies\n",
    "import pandas as pd\n",
    "import numpy as np\n",
    "import matplotlib as mpl\n",
    "import matplotlib.pyplot as plt\n",
    "import sklearn as sk\n"
   ]
  },
  {
   "cell_type": "code",
   "execution_count": 9,
   "id": "9019be5a",
   "metadata": {},
   "outputs": [],
   "source": [
    "from sklearn.metrics import balanced_accuracy_score\n",
    "from sklearn.metrics import confusion_matrix\n",
    "from imblearn.metrics import classification_report_imbalanced\n",
    "from sklearn.model_selection import train_test_split\n",
    "from sklearn.linear_model import LinearRegression\n"
   ]
  },
  {
   "cell_type": "markdown",
   "id": "3516457a",
   "metadata": {},
   "source": [
    "Data-preprocessing on wine data has been completed by Kyle, Thanks Kyle!."
   ]
  },
  {
   "cell_type": "code",
   "execution_count": 2,
   "id": "0906489a",
   "metadata": {},
   "outputs": [],
   "source": [
    "#read in merged data\n",
    "wine_df = pd.read_csv(\"\")"
   ]
  },
  {
   "cell_type": "code",
   "execution_count": 4,
   "id": "a4f109f8",
   "metadata": {},
   "outputs": [],
   "source": [
    "#categorize data\n"
   ]
  },
  {
   "cell_type": "code",
   "execution_count": 5,
   "id": "5f6ed9cc",
   "metadata": {},
   "outputs": [],
   "source": [
    "#check for any \"dummy trap variables\"\n"
   ]
  },
  {
   "cell_type": "code",
   "execution_count": 6,
   "id": "f514b62f",
   "metadata": {},
   "outputs": [],
   "source": [
    "#Split wine data into training and testing\n"
   ]
  },
  {
   "cell_type": "code",
   "execution_count": 7,
   "id": "f7791fa4",
   "metadata": {},
   "outputs": [],
   "source": [
    "#split weather data into training and testing\n"
   ]
  },
  {
   "cell_type": "code",
   "execution_count": null,
   "id": "d146f4cd",
   "metadata": {},
   "outputs": [],
   "source": []
  }
 ],
 "metadata": {
  "kernelspec": {
   "display_name": "mlenv",
   "language": "python",
   "name": "mlenv"
  },
  "language_info": {
   "codemirror_mode": {
    "name": "ipython",
    "version": 3
   },
   "file_extension": ".py",
   "mimetype": "text/x-python",
   "name": "python",
   "nbconvert_exporter": "python",
   "pygments_lexer": "ipython3",
   "version": "3.7.11"
  }
 },
 "nbformat": 4,
 "nbformat_minor": 5
}
